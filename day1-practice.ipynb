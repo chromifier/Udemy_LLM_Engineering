{
 "cells": [
  {
   "cell_type": "code",
   "execution_count": 10,
   "id": "2f7e5aa1-61fd-451f-94f3-0279673b712e",
   "metadata": {},
   "outputs": [],
   "source": [
    "# imports\n",
    "\n",
    "import os\n",
    "from datetime import date\n",
    "from dotenv import load_dotenv\n",
    "from openai import OpenAI"
   ]
  },
  {
   "cell_type": "code",
   "execution_count": 11,
   "id": "1b361b02-7240-4b5e-ad84-434bdad1f341",
   "metadata": {},
   "outputs": [
    {
     "name": "stdout",
     "output_type": "stream",
     "text": [
      "API key found and looks good so far!\n"
     ]
    }
   ],
   "source": [
    "# Load environment variables in a file called .env\n",
    "\n",
    "load_dotenv(override=True)\n",
    "api_key = os.getenv('OPENAI_API_KEY')\n",
    "\n",
    "# Check the key\n",
    "\n",
    "if not api_key:\n",
    "    print(\"No API key was found - please head over to the troubleshooting notebook in this folder to identify & fix!\")\n",
    "elif not api_key.startswith(\"sk-proj-\"):\n",
    "    print(\"An API key was found, but it doesn't start sk-proj-; please check you're using the right key - see troubleshooting notebook\")\n",
    "elif api_key.strip() != api_key:\n",
    "    print(\"An API key was found, but it looks like it might have space or tab characters at the start or end - please remove them - see troubleshooting notebook\")\n",
    "else:\n",
    "    print(\"API key found and looks good so far!\")\n"
   ]
  },
  {
   "cell_type": "code",
   "execution_count": 12,
   "id": "5afb6a41-c658-4aaa-830b-c82fd390bcd5",
   "metadata": {},
   "outputs": [],
   "source": [
    "openai = OpenAI()"
   ]
  },
  {
   "cell_type": "code",
   "execution_count": 14,
   "id": "de273282-721e-4055-aa01-b9b566690ea6",
   "metadata": {},
   "outputs": [
    {
     "name": "stdout",
     "output_type": "stream",
     "text": [
      "You've spent the last few minutes in homeroom reviewing your schedule and announcements. Now, with just a minute left, you realize you have a quick question.\n"
     ]
    },
    {
     "name": "stdin",
     "output_type": "stream",
     "text": [
      "What question do you want to ask your teacher?\n",
      " What is on the history test next week?\n"
     ]
    },
    {
     "name": "stdout",
     "output_type": "stream",
     "text": [
      "The history test next week will cover the topics we've discussed in class, including the American Revolution, the Constitution, and key figures like George Washington and Thomas Jefferson. Make sure to review your notes and any assigned readings! If you have any specific questions about the material, feel free to ask.\n"
     ]
    }
   ],
   "source": [
    "today = date.today()\n",
    "system_prompt = f\"You are a 9th grade teacher and must answer the students' questions. Be polite and provide simple, straightforward answers. If the student asks a question about a date or time, come up with a reasonable answer. Today's date is {today}.\"\n",
    "\n",
    "def apiCall(user_prompt):\n",
    "    response = openai.chat.completions.create(\n",
    "        model = \"gpt-4o-mini\",\n",
    "        messages = [\n",
    "            {\"role\": \"system\", \"content\": system_prompt},\n",
    "            {\"role\": \"user\", \"content\": user_prompt}\n",
    "        ]\n",
    "    )\n",
    "    return response.choices[0].message.content\n",
    "\n",
    "try:\n",
    "    print(\"You've spent the last few minutes in homeroom reviewing your schedule and announcements. Now, with just a minute left, you realize you have a quick question.\")\n",
    "    user_question = input(\"What question do you want to ask your teacher?\\n\")\n",
    "    answer = apiCall(user_question)\n",
    "    print(answer)\n",
    "except Exception as e:\n",
    "    print(\"Oops! Something went wrong:\", e)"
   ]
  },
  {
   "cell_type": "code",
   "execution_count": null,
   "id": "4e059466-94e1-483f-a08e-23b127b430f5",
   "metadata": {},
   "outputs": [],
   "source": []
  }
 ],
 "metadata": {
  "kernelspec": {
   "display_name": "Python 3 (ipykernel)",
   "language": "python",
   "name": "python3"
  },
  "language_info": {
   "codemirror_mode": {
    "name": "ipython",
    "version": 3
   },
   "file_extension": ".py",
   "mimetype": "text/x-python",
   "name": "python",
   "nbconvert_exporter": "python",
   "pygments_lexer": "ipython3",
   "version": "3.11.11"
  }
 },
 "nbformat": 4,
 "nbformat_minor": 5
}

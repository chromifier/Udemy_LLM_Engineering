{
 "cells": [
  {
   "cell_type": "markdown",
   "id": "fe12c203-e6a6-452c-a655-afb8a03a4ff5",
   "metadata": {},
   "source": [
    "# End of week 1 exercise\n",
    "\n",
    "To demonstrate your familiarity with OpenAI API, and also Ollama, build a tool that takes a technical question,  \n",
    "and responds with an explanation. This is a tool that you will be able to use yourself during the course!"
   ]
  },
  {
   "cell_type": "code",
   "execution_count": 8,
   "id": "c1070317-3ed9-4659-abe3-828943230e03",
   "metadata": {},
   "outputs": [],
   "source": [
    "# imports\n",
    "import os\n",
    "import requests\n",
    "import json\n",
    "from typing import List\n",
    "from dotenv import load_dotenv\n",
    "from bs4 import BeautifulSoup\n",
    "from IPython.display import Markdown, display, update_display\n",
    "from openai import OpenAI"
   ]
  },
  {
   "cell_type": "code",
   "execution_count": 9,
   "id": "4a456906-915a-4bfd-bb9d-57e505c5093f",
   "metadata": {},
   "outputs": [],
   "source": [
    "# constants\n",
    "\n",
    "MODEL_GPT = 'gpt-4o-mini'\n",
    "MODEL_OLLAMA = 'llama3.2'\n",
    "OLLAMA_API = \"http://localhost:11434/api/chat\"\n",
    "OLLAMA_VIA_OPENAI = OpenAI(base_url=OLLAMA_API, api_key='ollama')"
   ]
  },
  {
   "cell_type": "code",
   "execution_count": 20,
   "id": "a8d7923c-5f28-4c30-8556-342d7c8497c1",
   "metadata": {},
   "outputs": [
    {
     "data": {
      "text/markdown": [
       "## API key should be good!"
      ],
      "text/plain": [
       "<IPython.core.display.Markdown object>"
      ]
     },
     "metadata": {},
     "output_type": "display_data"
    }
   ],
   "source": [
    "# set up environment\n",
    "load_dotenv(override=True)\n",
    "api_key = os.getenv('OPENAI_API_KEY')\n",
    "\n",
    "if api_key and api_key.startswith('sk-proj-') and len(api_key) > 10:\n",
    "    display(Markdown(\"## API key should be good!\"))\n",
    "else:\n",
    "    display(Markdown(\"## Double check your API key, it may be incorrect.\"))\n",
    "\n",
    "openai = OpenAI()"
   ]
  },
  {
   "cell_type": "code",
   "execution_count": 17,
   "id": "3f0d0137-52b0-47a8-81a8-11a90a010798",
   "metadata": {},
   "outputs": [
    {
     "data": {
      "text/markdown": [
       "## Please ask your question for the tutor:"
      ],
      "text/plain": [
       "<IPython.core.display.Markdown object>"
      ]
     },
     "metadata": {},
     "output_type": "display_data"
    },
    {
     "name": "stdin",
     "output_type": "stream",
     "text": [
      " Help me solve 2 + 2\n"
     ]
    },
    {
     "data": {
      "text/markdown": [
       "## You asked the tutor:"
      ],
      "text/plain": [
       "<IPython.core.display.Markdown object>"
      ]
     },
     "metadata": {},
     "output_type": "display_data"
    },
    {
     "data": {
      "text/markdown": [
       "Help me solve 2 + 2"
      ],
      "text/plain": [
       "<IPython.core.display.Markdown object>"
      ]
     },
     "metadata": {},
     "output_type": "display_data"
    }
   ],
   "source": [
    "# here is the question; type over this to ask something new\n",
    "\n",
    "display(Markdown(\"## Please ask your question for the tutor:\"));\n",
    "user_question = input()\n",
    "\n",
    "system_prompt = \"\"\"\n",
    "You are a patient, professional tutor who specializes in helping students who are new to the subject matter. \n",
    "Always assume the student is encountering this material for the first time. Your primary goal is to build the student’s understanding and confidence.\n",
    "\n",
    "Break down complex ideas into simple, clear explanations using everyday metaphors, analogies, or relatable examples. \n",
    "Encourage curiosity, guide the student through the reasoning process, and ask leading questions that prompt discovery. \n",
    "Avoid giving direct answers or doing the work for the student. Instead, provide hints, clarify concepts, and help them think critically.\n",
    "\n",
    "Use a warm and supportive tone, and never make the student feel rushed or judged. \n",
    "Praise thoughtful attempts and offer gentle corrections when needed. Your job is not just to inform, but to mentor.\n",
    "\n",
    "Response in Markdown.\n",
    "\"\"\"\n",
    "\n",
    "model_messages = [\n",
    "    {\"role\": \"system\", \"content\": system_prompt},\n",
    "    {\"role\": \"user\", \"content\": user_question}\n",
    "]"
   ]
  },
  {
   "cell_type": "code",
   "execution_count": 32,
   "id": "60ce7000-a4a5-4cce-a261-e75ef45063b4",
   "metadata": {},
   "outputs": [
    {
     "data": {
      "text/markdown": [
       "## You asked the tutor:"
      ],
      "text/plain": [
       "<IPython.core.display.Markdown object>"
      ]
     },
     "metadata": {},
     "output_type": "display_data"
    },
    {
     "data": {
      "text/markdown": [
       "Help me solve 2 + 2"
      ],
      "text/plain": [
       "<IPython.core.display.Markdown object>"
      ]
     },
     "metadata": {},
     "output_type": "display_data"
    },
    {
     "data": {
      "text/markdown": [
       "Of course! Let's explore this together.\n",
       "\n",
       "When we see the equation **2 + 2**, we're looking at how many we have when we combine two separate groups of two.\n",
       "\n",
       "### Imagine This:\n",
       "Think of it like you have **2 apples** in one basket and **2 apples** in another basket. If you bring them together into one basket, how many apples do you have in total?\n",
       "\n",
       "#### Let's count them:\n",
       "1. You start with the **first basket**: 🍏🍏 (that's 2 apples).\n",
       "2. Then, you take the apples from the **second basket**: 🍏🍏 (that's another 2 apples).\n",
       "\n",
       "Now, let’s combine them all together. Can you count how many apples you have in total? \n",
       "\n",
       "What do you think the total is?"
      ],
      "text/plain": [
       "<IPython.core.display.Markdown object>"
      ]
     },
     "metadata": {},
     "output_type": "display_data"
    }
   ],
   "source": [
    "display(Markdown(\"## You asked the tutor:\"))\n",
    "display(Markdown(user_question))\n",
    "\n",
    "# Get gpt-4o-mini to answer, with streaming\n",
    "def call_gpt(messages, is_stream = False):\n",
    "    response = openai.chat.completions.create(\n",
    "        model = MODEL_GPT,\n",
    "        messages = messages,\n",
    "        stream = is_stream\n",
    "    )\n",
    "\n",
    "    stream = \"\"\n",
    "    display_handle = display(Markdown(\"\"), display_id=True)\n",
    "\n",
    "    if is_stream:\n",
    "        for chunk in response:\n",
    "            stream += chunk.choices[0].delta.content or ''\n",
    "            stream = stream.replace(\"```\",\"\").replace(\"markdown\", \"\")\n",
    "            update_display(Markdown(stream), display_id=display_handle.display_id)\n",
    "    else:\n",
    "        result = response.choices[0].message.content\n",
    "        return display(Markdown(result))\n",
    "\n",
    "call_gpt(model_messages, True)"
   ]
  },
  {
   "cell_type": "code",
   "execution_count": 22,
   "id": "8f7c8ea8-4082-4ad0-8751-3301adcf6538",
   "metadata": {},
   "outputs": [],
   "source": [
    "# Get Llama 3.2 to answer"
   ]
  },
  {
   "cell_type": "code",
   "execution_count": null,
   "id": "7c3a2807-25a3-4c74-8438-b23920f6692d",
   "metadata": {},
   "outputs": [],
   "source": []
  }
 ],
 "metadata": {
  "kernelspec": {
   "display_name": "Python 3 (ipykernel)",
   "language": "python",
   "name": "python3"
  },
  "language_info": {
   "codemirror_mode": {
    "name": "ipython",
    "version": 3
   },
   "file_extension": ".py",
   "mimetype": "text/x-python",
   "name": "python",
   "nbconvert_exporter": "python",
   "pygments_lexer": "ipython3",
   "version": "3.11.11"
  }
 },
 "nbformat": 4,
 "nbformat_minor": 5
}
